{
  "nbformat": 4,
  "nbformat_minor": 0,
  "metadata": {
    "colab": {
      "name": "KRX.ipynb",
      "version": "0.3.2",
      "provenance": [],
      "collapsed_sections": [],
      "include_colab_link": true
    },
    "kernelspec": {
      "name": "python3",
      "display_name": "Python 3"
    }
  },
  "cells": [
    {
      "cell_type": "markdown",
      "metadata": {
        "id": "view-in-github",
        "colab_type": "text"
      },
      "source": [
        "[View in Colaboratory](https://colab.research.google.com/github/hyunsikhwang/Pythonista/blob/master/KRX.ipynb)"
      ]
    },
    {
      "metadata": {
        "id": "FNC5E5IcZiQ6",
        "colab_type": "code",
        "colab": {
          "base_uri": "https://localhost:8080/",
          "height": 170
        },
        "outputId": "d2124353-3bae-404f-da01-bc6c2202ddc4"
      },
      "cell_type": "code",
      "source": [
        "# -*- coding: utf-8 -*-\n",
        "import requests\n",
        "import bs4\n",
        "import xml.etree\n",
        "from datetime import datetime, timedelta\n",
        "import json\n",
        "\n",
        "\n",
        "def post_beautiful_soup(url, payload):\n",
        "\treturn bs4.BeautifulSoup(requests.post(url, data=payload).text, \"html5lib\")\n",
        "\n",
        "\n",
        "def get_beautiful_soup(url):\n",
        "\treturn bs4.BeautifulSoup(requests.get(url).text, \"html5lib\")\n",
        "\n",
        "\n",
        "def millis():\n",
        "\treturn int((datetime.utcnow() - datetime(1970, 1, 1)).total_seconds() * 1000)\n",
        "\n",
        "\n",
        "milli_timestamp = millis()\n",
        "#print(milli_timestamp)\n",
        "\n",
        "end_dd = datetime.today().strftime(\"%Y%m%d\")\n",
        "strt_dd = (datetime.now() - timedelta(days=7)).strftime(\"%Y%m%d\")\n",
        "\n",
        "data_type = {}\n",
        "data_type['IDX'] = 0\n",
        "data_type['PER'] = 1\n",
        "data_type['PBR'] = 2\n",
        "\n",
        "xx = 'IDX'\n",
        "\n",
        "url_1 = []\n",
        "#지수\n",
        "url_1.append('http://marketdata.krx.co.kr/contents/COM/GenerateOTP.jspx?bld=MKD%2F10%2F1001%2F10010101%2Fmkd10010101_07&name=selectbox&_=' + str(milli_timestamp))\n",
        "\n",
        "#PER\n",
        "url_1.append('http://marketdata.krx.co.kr/contents/COM/GenerateOTP.jspx?bld=MKD%2F13%2F1301%2F13010103%2Fmkd13010103_02&name=selectbox&_=' + str(milli_timestamp))\n",
        "\n",
        "#PBR\n",
        "url_1.append('http://marketdata.krx.co.kr/contents/COM/GenerateOTP.jspx?bld=MKD%2F13%2F1301%2F13010104%2Fmkd13010104_02&name=selectbox&_=' + str(milli_timestamp))\n",
        "\n",
        "#url_2 = 'http://marketdata.krx.co.kr/contents/MKD/99/MKD99000001.jspx?type=1&ind_type=1001&period_strt_dd=20170804&period_end_dd=20170811&pagePath=%2Fcontents%2FMKD%2F10%2F1001%2F10010101%2FMKD10010101.jsp&code=' + OTP + '&pageFirstCall=Y'\n",
        "url_2 = 'http://marketdata.krx.co.kr/contents/MKD/99/MKD99000001.jspx'\n",
        "\n",
        "\n",
        "pagePath = []\n",
        "#지수\n",
        "pagePath.append('/contents/MKD/10/1001/10010101/MKD10010101.jsp')\n",
        "\n",
        "#PER\n",
        "pagePath.append('/contents/MKD/13/1301/13010103/MKD13010103.jsp')\n",
        "\n",
        "#PBR\n",
        "pagePath.append('/contents/MKD/13/1301/13010103/MKD13010104.jsp')\n",
        "\n",
        "\n",
        "headers = {'Content-Type': 'application/xm'} \n",
        "\n",
        "\n",
        "for idx in range(3):\n",
        "\t#MktData = get_beautiful_soup(url_2)\n",
        "\tOTP = get_beautiful_soup(url_1[idx]).find('body').text\n",
        "\t#print(OTP)\n",
        "\tif idx == 0:\n",
        "\t\t#지수\n",
        "\t\tpayload = {'type':'1', 'ind_type':'1001', 'period_strt_dd':strt_dd, 'period_end_dd':end_dd, 'pagePath':'pagePath:'+pagePath[0],'code':OTP, 'pageFirstCall':'Y'}\n",
        "\telif idx == 1:\n",
        "\t\t#PER\n",
        "\t\tpayload = {'type':'kospi', 'period_selector':'day', 'fromdate':strt_dd, 'todate':end_dd, 'pagePath':'pagePath:'+pagePath[1],'code':OTP}\n",
        "\telif idx == 2:\n",
        "\t\t#PBR\n",
        "\t\tpayload = {'type':'kospi', 'period_selector':'day', 'fromdate':strt_dd, 'todate': end_dd, 'pagePath':'pagePath:'+pagePath[2],'code':OTP}\n",
        "\n",
        "\tMktData = post_beautiful_soup(url_2, payload)\n",
        "\t#print(MktData)\n",
        "\tprint(idx)\n",
        "\n",
        "\tdata = json.loads(MktData.text)\n",
        "\n",
        "\tif idx == 0:\n",
        "\t\tprint(data['block1'][0]['work_dt'], data['block1'][0]['indx'])\n",
        "\t\tprint(data['block1'][1]['work_dt'], data['block1'][1]['indx'])\n",
        "\telse:\n",
        "\t\tprint(data['block1'][0]['trd_dd'], data['block1'][0]['idx_type1'], data['block1'][0]['idx_type2'])\n",
        "\t\tprint(data['block1'][1]['trd_dd'], data['block1'][1]['idx_type1'], data['block1'][1]['idx_type2'])\n",
        "\n",
        "    \n"
      ],
      "execution_count": 1,
      "outputs": [
        {
          "output_type": "stream",
          "text": [
            "0\n",
            "2018/08/29 2,309.03\n",
            "2018/08/28 2,303.12\n",
            "1\n",
            "2018/08/29 10.95 10.18\n",
            "2018/08/28 10.92 10.15\n",
            "2\n",
            "2018/08/29 1.04 1.06\n",
            "2018/08/28 1.04 1.06\n"
          ],
          "name": "stdout"
        }
      ]
    },
    {
      "metadata": {
        "id": "Xr8vVE1M3DsN",
        "colab_type": "code",
        "colab": {
          "base_uri": "https://localhost:8080/",
          "height": 34
        },
        "outputId": "a04e725d-4771-45d0-aa22-77dd82f42caf"
      },
      "cell_type": "code",
      "source": [
        "import bs4\n",
        "from datetime import datetime, timedelta\n",
        "\n",
        "\n",
        "def millis():\n",
        "\treturn int((datetime.utcnow() - datetime(1970, 1, 1)).total_seconds() * 1000)\n",
        "\n",
        "\n",
        "def get_beautiful_soup(url):\n",
        "\treturn bs4.BeautifulSoup(requests.get(url).text, \"html5lib\")\n",
        "\n",
        "\n",
        "URL_SPX = 'https://www.alphavantage.co/query?function=TIME_SERIES_DAILY&symbol=SPX&apikey=H2MWJ9QPQDYH9JC8'\n",
        "\n",
        "IDX_SPX = get_beautiful_soup(URL_SPX)\n",
        "\n",
        "milli_timestamp = millis()\n",
        "\n",
        "today = datetime.today().strftime(\"%Y-%m-%d\")\n",
        "\n",
        "\n",
        "data = json.loads(IDX_SPX.text)\n",
        "\n",
        "print(data['Time Series (Daily)'][today]['4. close'])"
      ],
      "execution_count": 21,
      "outputs": [
        {
          "output_type": "stream",
          "text": [
            "2899.7700\n"
          ],
          "name": "stdout"
        }
      ]
    },
    {
      "metadata": {
        "id": "crnOVD7O5ih2",
        "colab_type": "code",
        "colab": {}
      },
      "cell_type": "code",
      "source": [
        "!pip install quandl"
      ],
      "execution_count": 0,
      "outputs": []
    },
    {
      "metadata": {
        "id": "FZPxYxrV5mFJ",
        "colab_type": "code",
        "colab": {}
      },
      "cell_type": "code",
      "source": [
        "import quandl\n",
        "\n",
        "SP500_PER = quandl.get(\"MULTPL/SP500_PE_RATIO_MONTH\", authtoken=\"Fv18z47j5aJq9UuArbMP\")\n",
        "\n",
        "SP500_PER"
      ],
      "execution_count": 0,
      "outputs": []
    },
    {
      "metadata": {
        "id": "EclTTUn19W_U",
        "colab_type": "code",
        "colab": {
          "base_uri": "https://localhost:8080/",
          "height": 34
        },
        "outputId": "40079f50-e736-468d-8602-7b9717e13ee5"
      },
      "cell_type": "code",
      "source": [
        "import bs4\n",
        "\n",
        "def get_beautiful_soup(url):\n",
        "\treturn bs4.BeautifulSoup(requests.get(url).text, \"html5lib\")\n",
        "\n",
        "\n",
        "url = 'http://www.multpl.com/table'\n",
        "\n",
        "data = get_beautiful_soup(url)\n",
        "data_1 = data.find_all('td', 'right')\n",
        "print(data_1[0].text.replace('estimate', '').replace('\\n',''))"
      ],
      "execution_count": 50,
      "outputs": [
        {
          "output_type": "stream",
          "text": [
            "25.13\n"
          ],
          "name": "stdout"
        }
      ]
    }
  ]
}
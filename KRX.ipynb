{
  "nbformat": 4,
  "nbformat_minor": 0,
  "metadata": {
    "colab": {
      "name": "KRX.ipynb",
      "version": "0.3.2",
      "provenance": [],
      "collapsed_sections": [],
      "include_colab_link": true
    },
    "kernelspec": {
      "name": "python3",
      "display_name": "Python 3"
    }
  },
  "cells": [
    {
      "cell_type": "markdown",
      "metadata": {
        "id": "view-in-github",
        "colab_type": "text"
      },
      "source": [
        "[View in Colaboratory](https://colab.research.google.com/github/hyunsikhwang/Pythonista/blob/master/KRX.ipynb)"
      ]
    },
    {
      "metadata": {
        "id": "FNC5E5IcZiQ6",
        "colab_type": "code",
        "colab": {
          "base_uri": "https://localhost:8080/",
          "height": 170
        },
        "outputId": "089895bb-60b5-460f-bd6f-8a9683963bb9"
      },
      "cell_type": "code",
      "source": [
        "# -*- coding: utf-8 -*-\n",
        "import requests\n",
        "import bs4\n",
        "import xml.etree\n",
        "from datetime import datetime, timedelta\n",
        "import json\n",
        "\n",
        "\n",
        "def post_beautiful_soup(url, payload):\n",
        "\treturn bs4.BeautifulSoup(requests.post(url, data=payload).text, \"html5lib\")\n",
        "\n",
        "\n",
        "def get_beautiful_soup(url):\n",
        "\treturn bs4.BeautifulSoup(requests.get(url).text, \"html5lib\")\n",
        "\n",
        "\n",
        "def millis():\n",
        "\treturn int((datetime.utcnow() - datetime(1970, 1, 1)).total_seconds() * 1000)\n",
        "\n",
        "\n",
        "milli_timestamp = millis()\n",
        "#print(milli_timestamp)\n",
        "\n",
        "end_dd = datetime.today().strftime(\"%Y%m%d\")\n",
        "strt_dd = (datetime.now() - timedelta(days=7)).strftime(\"%Y%m%d\")\n",
        "\n",
        "data_type = {}\n",
        "data_type['IDX'] = 0\n",
        "data_type['PER'] = 1\n",
        "data_type['PBR'] = 2\n",
        "\n",
        "xx = 'IDX'\n",
        "\n",
        "url_1 = []\n",
        "#지수\n",
        "url_1.append('http://marketdata.krx.co.kr/contents/COM/GenerateOTP.jspx?bld=MKD%2F10%2F1001%2F10010101%2Fmkd10010101_07&name=selectbox&_=' + str(milli_timestamp))\n",
        "\n",
        "#PER\n",
        "url_1.append('http://marketdata.krx.co.kr/contents/COM/GenerateOTP.jspx?bld=MKD%2F13%2F1301%2F13010103%2Fmkd13010103_02&name=selectbox&_=' + str(milli_timestamp))\n",
        "\n",
        "#PBR\n",
        "url_1.append('http://marketdata.krx.co.kr/contents/COM/GenerateOTP.jspx?bld=MKD%2F13%2F1301%2F13010104%2Fmkd13010104_02&name=selectbox&_=' + str(milli_timestamp))\n",
        "\n",
        "#url_2 = 'http://marketdata.krx.co.kr/contents/MKD/99/MKD99000001.jspx?type=1&ind_type=1001&period_strt_dd=20170804&period_end_dd=20170811&pagePath=%2Fcontents%2FMKD%2F10%2F1001%2F10010101%2FMKD10010101.jsp&code=' + OTP + '&pageFirstCall=Y'\n",
        "url_2 = 'http://marketdata.krx.co.kr/contents/MKD/99/MKD99000001.jspx'\n",
        "\n",
        "\n",
        "pagePath = []\n",
        "#지수\n",
        "pagePath.append('/contents/MKD/10/1001/10010101/MKD10010101.jsp')\n",
        "\n",
        "#PER\n",
        "pagePath.append('/contents/MKD/13/1301/13010103/MKD13010103.jsp')\n",
        "\n",
        "#PBR\n",
        "pagePath.append('/contents/MKD/13/1301/13010103/MKD13010104.jsp')\n",
        "\n",
        "\n",
        "headers = {'Content-Type': 'application/xm'} \n",
        "\n",
        "\n",
        "for idx in range(3):\n",
        "\t#MktData = get_beautiful_soup(url_2)\n",
        "\tOTP = get_beautiful_soup(url_1[idx]).find('body').text\n",
        "\t#print(OTP)\n",
        "\tif idx == 0:\n",
        "\t\t#지수\n",
        "\t\tpayload = {'type':'1', 'ind_type':'1001', 'period_strt_dd':strt_dd, 'period_end_dd':end_dd, 'pagePath':'pagePath:'+pagePath[0],'code':OTP, 'pageFirstCall':'Y'}\n",
        "\telif idx == 1:\n",
        "\t\t#PER\n",
        "\t\tpayload = {'type':'kospi', 'period_selector':'day', 'fromdate':strt_dd, 'todate':end_dd, 'pagePath':'pagePath:'+pagePath[1],'code':OTP}\n",
        "\telif idx == 2:\n",
        "\t\t#PBR\n",
        "\t\tpayload = {'type':'kospi', 'period_selector':'day', 'fromdate':strt_dd, 'todate': end_dd, 'pagePath':'pagePath:'+pagePath[2],'code':OTP}\n",
        "\n",
        "\tMktData = post_beautiful_soup(url_2, payload)\n",
        "\t#print(MktData)\n",
        "\tprint(idx)\n",
        "\n",
        "\tdata = json.loads(MktData.text)\n",
        "\n",
        "\tif idx == 0:\n",
        "\t\tprint(data['block1'][0]['work_dt'], data['block1'][0]['indx'])\n",
        "\t\tprint(data['block1'][1]['work_dt'], data['block1'][1]['indx'])\n",
        "\telse:\n",
        "\t\tprint(data['block1'][0]['trd_dd'], data['block1'][0]['idx_type1'], data['block1'][0]['idx_type2'])\n",
        "\t\tprint(data['block1'][1]['trd_dd'], data['block1'][1]['idx_type1'], data['block1'][1]['idx_type2'])\n"
      ],
      "execution_count": 2,
      "outputs": [
        {
          "output_type": "stream",
          "text": [
            "0\n",
            "2018/08/14 2,258.91\n",
            "2018/08/13 2,248.45\n",
            "1\n",
            "2018/08/14 10.71 9.94\n",
            "2018/08/13 10.66 9.90\n",
            "2\n",
            "2018/08/14 1.02 1.04\n",
            "2018/08/13 1.01 1.03\n"
          ],
          "name": "stdout"
        }
      ]
    }
  ]
}